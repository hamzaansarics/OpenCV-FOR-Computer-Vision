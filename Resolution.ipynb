{
 "cells": [
  {
   "cell_type": "code",
   "execution_count": 25,
   "metadata": {},
   "outputs": [
    {
     "name": "stdout",
     "output_type": "stream",
     "text": [
      "width: 640.0\n",
      "height: 480.0\n",
      "width: 320.0\n",
      "height: 240.0\n"
     ]
    }
   ],
   "source": [
    "import cv2\n",
    "cam=cv2.VideoCapture(3)\n",
    "if cam.isOpened():\n",
    "    check,frame=cam.read()\n",
    "#checking resulotion\n",
    "print('width: '+str(cam.get(3)))\n",
    "print('height: '+str(cam.get(4)))\n",
    "#seting resulition but this work on live video not a recorded video\n",
    "cam.set(3,340)\n",
    "cam.set(4,220)\n",
    "print('width: '+str(cam.get(3)))\n",
    "print('height: '+str(cam.get(4)))\n",
    "while check:\n",
    "    check,frame=cam.read()\n",
    "    cv2.imshow('Cool image',frame)\n",
    "    if cv2.waitKey(1)==27:\n",
    "        break\n",
    "cv2.destroyAllWindows()\n",
    "cam.release()\n"
   ]
  },
  {
   "cell_type": "code",
   "execution_count": null,
   "metadata": {},
   "outputs": [],
   "source": []
  },
  {
   "cell_type": "code",
   "execution_count": null,
   "metadata": {},
   "outputs": [],
   "source": []
  }
 ],
 "metadata": {
  "kernelspec": {
   "display_name": "Python 3",
   "language": "python",
   "name": "python3"
  },
  "language_info": {
   "codemirror_mode": {
    "name": "ipython",
    "version": 3
   },
   "file_extension": ".py",
   "mimetype": "text/x-python",
   "name": "python",
   "nbconvert_exporter": "python",
   "pygments_lexer": "ipython3",
   "version": "3.6.8"
  }
 },
 "nbformat": 4,
 "nbformat_minor": 2
}
