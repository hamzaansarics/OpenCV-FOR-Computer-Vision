{
 "cells": [
  {
   "cell_type": "code",
   "execution_count": 62,
   "metadata": {},
   "outputs": [],
   "source": [
    "import cv2\n",
    "import numpy as np\n",
    "import matplotlib.pyplot as plt\n",
    "import random\n",
    "import time\n",
    "cam=cv2.VideoCapture(0)\n",
    "while True:\n",
    "    chek,frame=cam.read()\n",
    "    #Laplacian\n",
    "    lap=cv2.Laplacian(frame,cv2.CV_64F)\n",
    "    #Sobel X\n",
    "    sobelx=cv2.Sobel(frame,cv2.CV_64F,1,0,ksize=5)\n",
    "    #Sobel Y\n",
    "    sobely=cv2.Sobel(frame,cv2.CV_64F,0,1,ksize=5)\n",
    "    #Edges Detection\n",
    "    edges=cv2.Canny(frame,100,1000)\n",
    "    cv2.imshow('Orignal',frame)\n",
    "    cv2.imshow('Sobel X',sobelx)\n",
    "    cv2.imshow('Sobel Y',sobely)\n",
    "    cv2.imshow('Edges Detected',edges)\n",
    "    cv2.imshow('Laplacian',lap)\n",
    "    if cv2.waitKey(1)==27:\n",
    "        break\n",
    "cv2.destroyAllWindows()\n",
    "cam.release()\n",
    "    "
   ]
  },
  {
   "cell_type": "code",
   "execution_count": null,
   "metadata": {},
   "outputs": [],
   "source": []
  },
  {
   "cell_type": "code",
   "execution_count": null,
   "metadata": {},
   "outputs": [],
   "source": []
  }
 ],
 "metadata": {
  "kernelspec": {
   "display_name": "Python 3",
   "language": "python",
   "name": "python3"
  },
  "language_info": {
   "codemirror_mode": {
    "name": "ipython",
    "version": 3
   },
   "file_extension": ".py",
   "mimetype": "text/x-python",
   "name": "python",
   "nbconvert_exporter": "python",
   "pygments_lexer": "ipython3",
   "version": "3.6.8"
  }
 },
 "nbformat": 4,
 "nbformat_minor": 2
}
