{
 "cells": [
  {
   "cell_type": "code",
   "execution_count": 6,
   "metadata": {},
   "outputs": [],
   "source": [
    "import cv2\n",
    "img1=cv2.imread('D:\\\\4.1.05.tiff')\n",
    "img2=cv2.imread('D:\\\\4.1.06.tiff')\n",
    "def emp(x):\n",
    "    pass\n",
    "windowName='Nice Man'\n",
    "cv2.namedWindow(windowName)\n",
    "cv2.createTrackbar('Values',windowName,0,100,emp)\n",
    "while True:\n",
    "    alpha=cv2.getTrackbarPos('Values',windowName)/100\n",
    "    beta=1-alpha\n",
    "    output=cv2.addWeighted(img1,alpha,img2,beta,0)\n",
    "    cv2.imshow(windowName,output)\n",
    "    if cv2.waitKey(1)==27:\n",
    "        break\n",
    "cv2.destroyAllWindows()   "
   ]
  },
  {
   "cell_type": "code",
   "execution_count": null,
   "metadata": {},
   "outputs": [],
   "source": []
  },
  {
   "cell_type": "code",
   "execution_count": null,
   "metadata": {},
   "outputs": [],
   "source": []
  }
 ],
 "metadata": {
  "kernelspec": {
   "display_name": "Python 3",
   "language": "python",
   "name": "python3"
  },
  "language_info": {
   "codemirror_mode": {
    "name": "ipython",
    "version": 3
   },
   "file_extension": ".py",
   "mimetype": "text/x-python",
   "name": "python",
   "nbconvert_exporter": "python",
   "pygments_lexer": "ipython3",
   "version": "3.7.4"
  }
 },
 "nbformat": 4,
 "nbformat_minor": 2
}
