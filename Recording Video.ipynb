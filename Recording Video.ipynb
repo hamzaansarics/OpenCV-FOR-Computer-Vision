{
 "cells": [
  {
   "cell_type": "code",
   "execution_count": 3,
   "metadata": {},
   "outputs": [],
   "source": [
    "import cv2\n",
    "cam=cv2.VideoCapture(3)\n",
    "windowName='Live Recording Video'\n",
    "cv2.namedWindow(windowName)\n",
    "path='H:\\\\Live_Recorded_Video.mp4'\n",
    "path1='H:\\\\Live.jpg'\n",
    "image=0\n",
    "framerate=20\n",
    "resulotion=(640,480)\n",
    "codec=cv2.VideoWriter_fourcc('X','V','I','D')\n",
    "VideoFileOuput=cv2.VideoWriter(path,codec,framerate,resulotion)\n",
    "chek,frame=cam.read()\n",
    "while chek:\n",
    "    chek,frame=cam.read()\n",
    "    VideoFileOuput.write(frame)\n",
    "    cv2.imshow(windowName,frame)\n",
    "    key=cv2.waitKey(1)\n",
    "    if key==ord('c'):\n",
    "        image+=1\n",
    "        cv2.imwrite('H:\\\\Live'+str(image)+'.jpg',frame)\n",
    "    if key==ord('b'):\n",
    "        break\n",
    "cv2.destroyAllWindows()\n",
    "VideoFileOuput.release()\n",
    "cam.release()"
   ]
  },
  {
   "cell_type": "code",
   "execution_count": null,
   "metadata": {},
   "outputs": [],
   "source": []
  }
 ],
 "metadata": {
  "kernelspec": {
   "display_name": "Python 3",
   "language": "python",
   "name": "python3"
  },
  "language_info": {
   "codemirror_mode": {
    "name": "ipython",
    "version": 3
   },
   "file_extension": ".py",
   "mimetype": "text/x-python",
   "name": "python",
   "nbconvert_exporter": "python",
   "pygments_lexer": "ipython3",
   "version": "3.6.8"
  }
 },
 "nbformat": 4,
 "nbformat_minor": 2
}
