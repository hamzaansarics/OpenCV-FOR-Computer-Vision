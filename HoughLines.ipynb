{
 "cells": [
  {
   "cell_type": "code",
   "execution_count": null,
   "metadata": {},
   "outputs": [],
   "source": [
    "import cv2\n",
    "import matplotlib.pyplot as plt\n",
    "import numpy as np\n",
    "cam=cv2.VideoCapture(0)\n",
    "while True:\n",
    "    check,frame=cam.read()\n",
    "    edges=cv2.Canny(frame,250,150)\n",
    "    lines=cv2.HoughLines(edges,1,np.pi/180,250)\n",
    "    if lines is not None:\n",
    "        for row,theta in lines[0]:\n",
    "            a=np.cos(theta)\n",
    "            b=np.sin(theta)\n",
    "            x=a*row\n",
    "            y=b*row\n",
    "            pts1=(int(x+1000*(-b)),int(y+1000*(a)))\n",
    "            pts2=(int(x-1000*(-b)),int(y-1000*(a)))\n",
    "            cv2.line(frame,pts1,pts2,(0,255,0),3)\n",
    "    if cv2.waitKey(1)==27:\n",
    "        break\n",
    "cam.release()\n",
    "cv2.destroyAllWindows()"
   ]
  },
  {
   "cell_type": "code",
   "execution_count": null,
   "metadata": {},
   "outputs": [],
   "source": []
  }
 ],
 "metadata": {
  "kernelspec": {
   "display_name": "Python 3",
   "language": "python",
   "name": "python3"
  },
  "language_info": {
   "codemirror_mode": {
    "name": "ipython",
    "version": 3
   },
   "file_extension": ".py",
   "mimetype": "text/x-python",
   "name": "python",
   "nbconvert_exporter": "python",
   "pygments_lexer": "ipython3",
   "version": "3.7.4"
  }
 },
 "nbformat": 4,
 "nbformat_minor": 2
}
