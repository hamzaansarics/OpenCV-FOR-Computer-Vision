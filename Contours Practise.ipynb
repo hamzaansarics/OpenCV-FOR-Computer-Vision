{
 "cells": [
  {
   "cell_type": "code",
   "execution_count": 33,
   "metadata": {},
   "outputs": [],
   "source": [
    "import numpy as np\n",
    "import cv2,time\n",
    "import matplotlib.pyplot as plt\n",
    "cam=cv2.VideoCapture(0)\n",
    "ret,frame1=cam.read()\n",
    "ret,frame2=cam.read()\n",
    "while ret:\n",
    "    d=cv2.absdiff(frame1,frame2)\n",
    "    gray=cv2.cvtColor(d,cv2.COLOR_BGR2GRAY)\n",
    "    ret,th=cv2.threshold(gray,80,255,0)\n",
    "    i,contours,hir=cv2.findContours(th,cv2.RETR_TREE,cv2.CHAIN_APPROX_NONE)\n",
    "    cont=cv2.drawContours(frame1,contours,-1,(0,255,0),2)\n",
    "#     cv2.imshow('Orignal ',frame2)\n",
    "    cv2.imshow('Difference',cont)\n",
    "    if cv2.waitKey(1)==27:\n",
    "        break\n",
    "    frame1=frame2\n",
    "    ret,frame2=cam.read()\n",
    "cv2.destroyAllWindows()\n",
    "cam.release()"
   ]
  },
  {
   "cell_type": "code",
   "execution_count": null,
   "metadata": {},
   "outputs": [],
   "source": []
  },
  {
   "cell_type": "code",
   "execution_count": null,
   "metadata": {},
   "outputs": [],
   "source": []
  }
 ],
 "metadata": {
  "kernelspec": {
   "display_name": "Python 3",
   "language": "python",
   "name": "python3"
  },
  "language_info": {
   "codemirror_mode": {
    "name": "ipython",
    "version": 3
   },
   "file_extension": ".py",
   "mimetype": "text/x-python",
   "name": "python",
   "nbconvert_exporter": "python",
   "pygments_lexer": "ipython3",
   "version": "3.6.8"
  }
 },
 "nbformat": 4,
 "nbformat_minor": 2
}
