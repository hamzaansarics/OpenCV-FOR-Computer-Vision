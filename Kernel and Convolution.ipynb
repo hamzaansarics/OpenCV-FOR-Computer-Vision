{
 "cells": [
  {
   "cell_type": "code",
   "execution_count": 51,
   "metadata": {},
   "outputs": [
    {
     "name": "stdout",
     "output_type": "stream",
     "text": [
      "[[0.04545455 0.04545455 0.04545455]\n",
      " [0.04545455 0.04545455 0.04545455]\n",
      " [0.04545455 0.04545455 0.04545455]]\n"
     ]
    }
   ],
   "source": [
    "import cv2\n",
    "import numpy as np\n",
    "import matplotlib.pyplot as plt\n",
    "img=cv2.imread('D:\\\\4.1.05.tiff')\n",
    "# edegs=np.array(([-1,-1,-1],[-1,8,-1],[-1,-1,-1]),np.float32)\n",
    "# box_blur=np.array(([22,22,22],[22,22,22],[22,22,22]),np.float32)/484\n",
    "# sharpen=np.array(([0,-1,0],[-1,5,-1],[0,-1,0]),np.float32)\n",
    "print(box_blur)\n",
    "cam=cv2.VideoCapture(0)\n",
    "while True:\n",
    "    chek,frame=cam.read()   \n",
    "    output=cv2.filter2D(frame,-1,sharpen)\n",
    "    cv2.imshow('Edges',output)\n",
    "    cv2.imshow('orignal',frame)\n",
    "    if cv2.waitKey(1)==27:\n",
    "        break\n",
    "cv2.destroyAllWindows()\n",
    "cam.release()\n"
   ]
  },
  {
   "cell_type": "code",
   "execution_count": null,
   "metadata": {},
   "outputs": [],
   "source": []
  },
  {
   "cell_type": "code",
   "execution_count": null,
   "metadata": {},
   "outputs": [],
   "source": []
  }
 ],
 "metadata": {
  "kernelspec": {
   "display_name": "Python 3",
   "language": "python",
   "name": "python3"
  },
  "language_info": {
   "codemirror_mode": {
    "name": "ipython",
    "version": 3
   },
   "file_extension": ".py",
   "mimetype": "text/x-python",
   "name": "python",
   "nbconvert_exporter": "python",
   "pygments_lexer": "ipython3",
   "version": "3.6.8"
  }
 },
 "nbformat": 4,
 "nbformat_minor": 2
}
