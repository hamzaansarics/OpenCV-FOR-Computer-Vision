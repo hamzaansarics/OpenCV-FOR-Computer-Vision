{
 "cells": [
  {
   "cell_type": "code",
   "execution_count": 112,
   "metadata": {},
   "outputs": [
    {
     "data": {
      "image/png": "[encoded data removed]",
      "text/plain": [
       "<Figure size 432x288 with 1 Axes>"
      ]
     },
     "metadata": {
      "needs_background": "light"
     },
     "output_type": "display_data"
    }
   ],
   "source": [
    "import cv2\n",
    "import numpy as np\n",
    "import matplotlib.pyplot as plt\n",
    "img=np.zeros((512,512,3),np.uint8)\n",
    "\n",
    "#Inside Line Function(image,(x,y),(x,y),(Blue,Green,Red),capacity)\n",
    "# cv2.line(img,(250,0),(250,300),(255,0,0),2)\n",
    "\n",
    "#Inside Rectangle Function(image,(x,y),(x,y),(Blue,Green,Red),capacity)\n",
    "# cv2.rectangle(img,(150,200),(350,350),(255,0,0),6)\n",
    "\n",
    "#Inside Circle Function(image,(x,y as orign),(scaling to circle),(Blue,Green,Red),capacity)\n",
    "# cv2.circle(img,(200,300),100,(0,200,20),5)\n",
    "\n",
    "#Inside Ellipse Function(image,(x,y as orign),(x-scaling,y-scaling),directions,how much cut,ellipse diameter,(Blue,Green,Red),capacity)\n",
    "# cv2.ellipse(img,(250,150),(10,100),0,0,360,(120,200,40),-1)\n",
    "\n",
    "# text='Hamza Ansari'\n",
    "# cv2.putText(img,text,(20,150),(cv2.FONT_HERSHEY_SIMPLEX),1,(0,200,20))\n",
    "plt.imshow(img)\n",
    "plt.show()\n",
    "cv2.waitKey(0)\n",
    "cv2.destroyAllWindows()"
   ]
  },
  {
   "cell_type": "code",
   "execution_count": null,
   "metadata": {},
   "outputs": [],
   "source": []
  }
 ],
 "metadata": {
  "kernelspec": {
   "display_name": "Python 3",
   "language": "python",
   "name": "python3"
  },
  "language_info": {
   "codemirror_mode": {
    "name": "ipython",
    "version": 3
   },
   "file_extension": ".py",
   "mimetype": "text/x-python",
   "name": "python",
   "nbconvert_exporter": "python",
   "pygments_lexer": "ipython3",
   "version": "3.6.8"
  }
 },
 "nbformat": 4,
 "nbformat_minor": 2
}
