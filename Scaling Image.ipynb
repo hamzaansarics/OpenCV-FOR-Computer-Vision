{
 "cells": [
  {
   "cell_type": "code",
   "execution_count": 18,
   "metadata": {},
   "outputs": [],
   "source": [
    "import cv2\n",
    "img=cv2.imread('D:\\\\girl.jpg')\n",
    "resized=cv2.resize(img,(int(img.shape[0]*1),int(img.shape[1]*2)))\n",
    "# resized=cv2.resize(img,None,fx=1.5,fy=1.5)\n",
    "cv2.imshow(\"Resized Image\",resized)\n",
    "cv2.imshow('Orignal Image',img)\n",
    "cv2.waitKey()\n",
    "cv2.destroyAllWindows()"
   ]
  },
  {
   "cell_type": "code",
   "execution_count": null,
   "metadata": {},
   "outputs": [],
   "source": []
  }
 ],
 "metadata": {
  "kernelspec": {
   "display_name": "Python 3",
   "language": "python",
   "name": "python3"
  },
  "language_info": {
   "codemirror_mode": {
    "name": "ipython",
    "version": 3
   },
   "file_extension": ".py",
   "mimetype": "text/x-python",
   "name": "python",
   "nbconvert_exporter": "python",
   "pygments_lexer": "ipython3",
   "version": "3.6.8"
  }
 },
 "nbformat": 4,
 "nbformat_minor": 2
}
