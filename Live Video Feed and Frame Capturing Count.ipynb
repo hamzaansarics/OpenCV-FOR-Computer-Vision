{
 "cells": [
  {
   "cell_type": "code",
   "execution_count": 3,
   "metadata": {},
   "outputs": [
    {
     "name": "stdout",
     "output_type": "stream",
     "text": [
      "84\n",
      "1.3099303245544434\n"
     ]
    }
   ],
   "source": [
    "import cv2,time\n",
    "cam=cv2.VideoCapture(\"C:\\\\Users\\\\Hamza\\\\Downloads\\\\Video\\\\Pakistan.mp4\")\n",
    "frame_counter=0\n",
    "windowname='output'\n",
    "cv2.namedWindow(windowname)\n",
    "if cam.isOpened():\n",
    "    check,frame=cam.read()\n",
    "t1=time.time()\n",
    "while check:\n",
    "    check,frame=cam.read()\n",
    "    cv2.imshow(windowname,frame)\n",
    "    frame_counter+=1\n",
    "    if cv2.waitKey(1)==27:\n",
    "        break\n",
    "        \n",
    "t2=time.time()\n",
    "if frame_counter!=0:\n",
    "    print(frame_counter)\n",
    "    print(t2-t1)\n",
    "cv2.destroyAllWindows()\n",
    "cam.release()"
   ]
  },
  {
   "cell_type": "code",
   "execution_count": null,
   "metadata": {},
   "outputs": [],
   "source": []
  },
  {
   "cell_type": "code",
   "execution_count": null,
   "metadata": {},
   "outputs": [],
   "source": [
    "0"
   ]
  }
 ],
 "metadata": {
  "kernelspec": {
   "display_name": "Python 3",
   "language": "python",
   "name": "python3"
  },
  "language_info": {
   "codemirror_mode": {
    "name": "ipython",
    "version": 3
   },
   "file_extension": ".py",
   "mimetype": "text/x-python",
   "name": "python",
   "nbconvert_exporter": "python",
   "pygments_lexer": "ipython3",
   "version": "3.6.8"
  }
 },
 "nbformat": 4,
 "nbformat_minor": 2
}
