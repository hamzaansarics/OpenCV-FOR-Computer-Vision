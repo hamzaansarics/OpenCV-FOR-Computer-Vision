{
 "cells": [
  {
   "cell_type": "code",
   "execution_count": 42,
   "metadata": {},
   "outputs": [],
   "source": [
    "import cv2\n",
    "import numpy as np\n",
    "windowname=\"Relax\"\n",
    "cv2.namedWindow(windowname)\n",
    "img=np.zeros((512,512,3),np.uint8)\n",
    "def draw_circle(event,x,y,flags,params):\n",
    "    if event==cv2.EVENT_LBUTTONDOWN:\n",
    "        cv2.circle(img,(x,y),40,(0,255,0),-1)\n",
    "    if event==cv2.EVENT_MOUSEMOVE:\n",
    "        cv2.circle(img,(x,y),40,(0,0,0),-1)\n",
    "cv2.setMouseCallback(windowname,draw_circle)\n",
    "while True:\n",
    "    cv2.imshow(windowname,img)\n",
    "    if cv2.waitKey(1)==27:\n",
    "        break\n",
    "cv2.destroyAllWindows() \n",
    "# events=[i for i in dir(cv2) if 'EVENT' in i]\n",
    "# print(events)"
   ]
  },
  {
   "cell_type": "code",
   "execution_count": null,
   "metadata": {},
   "outputs": [],
   "source": []
  }
 ],
 "metadata": {
  "kernelspec": {
   "display_name": "Python 3",
   "language": "python",
   "name": "python3"
  },
  "language_info": {
   "codemirror_mode": {
    "name": "ipython",
    "version": 3
   },
   "file_extension": ".py",
   "mimetype": "text/x-python",
   "name": "python",
   "nbconvert_exporter": "python",
   "pygments_lexer": "ipython3",
   "version": "3.7.4"
  }
 },
 "nbformat": 4,
 "nbformat_minor": 2
}
