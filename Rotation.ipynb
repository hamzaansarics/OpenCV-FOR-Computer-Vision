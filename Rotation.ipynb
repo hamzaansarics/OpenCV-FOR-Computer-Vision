{
 "cells": [
  {
   "cell_type": "code",
   "execution_count": 9,
   "metadata": {},
   "outputs": [],
   "source": [
    "import cv2,time\n",
    "import matplotlib.pyplot as plt\n",
    "import numpy as np\n",
    "cam=cv2.VideoCapture(0)\n",
    "windowName='Rotated'\n",
    "def emp(x):\n",
    "    pass\n",
    "cv2.namedWindow(windowName)\n",
    "cv2.createTrackbar('Rotation',windowName,0,360,emp)\n",
    "check,frame=cam.read()\n",
    "rot=0\n",
    "scal=0.0\n",
    "while check:\n",
    "    rot+=1\n",
    "    scal+=0.1\n",
    "    if scal>=0.9:\n",
    "        scal=0.0\n",
    "    time.sleep(0.1)\n",
    "    print(scal)\n",
    "    rot=cv2.getTrackbarPos('Rotation',windowName)\n",
    "    check,frame=cam.read()\n",
    "    rows,colums,channels=frame.shape\n",
    "    R=cv2.getRotationMatrix2D((rows/2,colums/2),rot,scal)\n",
    "    output=cv2.warpAffine(frame,R,(rows,colums))\n",
    "    cv2.imshow(windowName,output)\n",
    "    print(R)\n",
    "    if cv2.waitKey(1)==27:\n",
    "        break\n",
    "cv2.destroyAllWindows()\n",
    "cam.release()"
   ]
  },
  {
   "cell_type": "code",
   "execution_count": 21,
   "metadata": {},
   "outputs": [
    {
     "name": "stdout",
     "output_type": "stream",
     "text": [
      "1\n",
      "2\n",
      "3\n",
      "4\n",
      "5\n",
      "6\n",
      "7\n",
      "8\n",
      "9\n"
     ]
    }
   ],
   "source": [
    "def recursion(a):\n",
    "    if a==10:\n",
    "        return a\n",
    "    else:\n",
    "         print(a)\n",
    "    recursion(a+1)\n",
    "recursion(1)"
   ]
  },
  {
   "cell_type": "code",
   "execution_count": null,
   "metadata": {},
   "outputs": [],
   "source": []
  }
 ],
 "metadata": {
  "kernelspec": {
   "display_name": "Python 3",
   "language": "python",
   "name": "python3"
  },
  "language_info": {
   "codemirror_mode": {
    "name": "ipython",
    "version": 3
   },
   "file_extension": ".py",
   "mimetype": "text/x-python",
   "name": "python",
   "nbconvert_exporter": "python",
   "pygments_lexer": "ipython3",
   "version": "3.7.4"
  }
 },
 "nbformat": 4,
 "nbformat_minor": 2
}
