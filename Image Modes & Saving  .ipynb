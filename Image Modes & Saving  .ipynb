{
 "cells": [
  {
   "cell_type": "code",
   "execution_count": 5,
   "metadata": {},
   "outputs": [],
   "source": [
    "import cv2\n",
    "#modes 0-gray_scale 1-default and -1-as it as 1 mode\n",
    "img=cv2.imread('D:\\\\girl.jpg',1)\n",
    "cv2.imshow('Girl',img)\n",
    "#Writing/saving image to another directory\n",
    "cv2.imwrite('D:\\\\[FreeCourseSite.com] Udemy - How to Earn Income on YouTube WITHOUT Making Videos\\\\lena.jpg',img)\n",
    "cv2.waitKey(0)\n",
    "cv2.destroyAllWindows()"
   ]
  },
  {
   "cell_type": "code",
   "execution_count": null,
   "metadata": {},
   "outputs": [],
   "source": []
  }
 ],
 "metadata": {
  "kernelspec": {
   "display_name": "Python 3",
   "language": "python",
   "name": "python3"
  },
  "language_info": {
   "codemirror_mode": {
    "name": "ipython",
    "version": 3
   },
   "file_extension": ".py",
   "mimetype": "text/x-python",
   "name": "python",
   "nbconvert_exporter": "python",
   "pygments_lexer": "ipython3",
   "version": "3.6.8"
  }
 },
 "nbformat": 4,
 "nbformat_minor": 2
}
